{
 "cells": [
  {
   "cell_type": "markdown",
   "metadata": {},
   "source": [
    "# Problem 1 - St. Venant-Kirchoff Hyperelasticity (manufactured solution)"
   ]
  },
  {
   "cell_type": "code",
   "execution_count": 1,
   "metadata": {},
   "outputs": [],
   "source": [
    "from dolfin import *\n",
    "import numpy as np\n",
    "import matplotlib.pyplot as plt"
   ]
  },
  {
   "cell_type": "code",
   "execution_count": 2,
   "metadata": {
    "scrolled": true
   },
   "outputs": [],
   "source": [
    "N = 8\n",
    "mesh = UnitCubeMesh(N,N,N)\n",
    "X = SpatialCoordinate(mesh) \n",
    "k = 1\n",
    "dx = dx(metadata ={'quadrature_degree':2*k})\n",
    "V = VectorFunctionSpace (mesh , \"CG\",k)\n",
    "u = Function (V)\n",
    "I = Identity(len (u))\n",
    "def problem(u): \n",
    "    I = Identity(len (u))\n",
    "    F = I + grad(u) # deformation gradient\n",
    "    C = F.T*F # Cauchy-Green tensor\n",
    "    E = 0.5*(C-I) # Green-Lagrange Strain tensor\n",
    "    K = Constant(1.0e1)\n",
    "    mu = Constant(1.0e1)\n",
    "    S = K*tr(E)*I + 2.0*mu*(E - tr(E)*I/3.0) # 2nd PK Stress tensor\n",
    "    psi = 0.5*inner(E,S)\n",
    "    return F,S,psi\n",
    "err_dict = dict()"
   ]
  },
  {
   "cell_type": "code",
   "execution_count": 3,
   "metadata": {},
   "outputs": [],
   "source": [
    "u_ex = as_vector(3*[0.1*sin(pi*X[0]) * sin(pi*X[1])*sin(pi*X[2]) ,]) \n",
    "H1err = lambda u: sqrt(assemble(((u-u_ex)**2 + (div(u)-div(u_ex))**2)*dx))"
   ]
  },
  {
   "cell_type": "code",
   "execution_count": 4,
   "metadata": {},
   "outputs": [
    {
     "name": "stdout",
     "output_type": "stream",
     "text": [
      "Errors for polynomial order 1:\n",
      "N = 2: 0.16002836571983092\n",
      "N = 3: 0.10823162759846593\n",
      "N = 4: 0.07956894407298544\n",
      "N = 5: 0.06269450715439057\n",
      "N = 6: 0.05173568767763485\n",
      "N = 7: 0.04405970786877834\n",
      "N = 8: 0.03838219899645828\n",
      "Errors for polynomial order 2:\n",
      "N = 2: 0.055264797053366385\n",
      "N = 3: 0.02652352906257629\n",
      "N = 4: 0.015272356632708284\n",
      "N = 5: 0.009881982580419169\n",
      "N = 6: 0.006899259320880784\n",
      "N = 7: 0.005083311974443078\n",
      "N = 8: 0.0038982721468753235\n",
      "Errors for polynomial order 3:\n",
      "N = 2: 0.0175292861835237\n",
      "N = 3: 0.0054932682461913095\n",
      "N = 4: 0.0023347735539772717\n",
      "N = 5: 0.0011943853784155201\n",
      "N = 6: 0.0006896614308533662\n",
      "N = 7: 0.0004334982984876113\n",
      "N = 8: 0.0002899940169290507\n"
     ]
    }
   ],
   "source": [
    "kvec = [1,2,3]\n",
    "Nvec = [x for x in range(2,9)]\n",
    "for k in kvec: # order of polynomials\n",
    "    err_dict[k] = []\n",
    "    print(f\"Errors for polynomial order {k}:\")\n",
    "    for N in Nvec:\n",
    "        mesh = UnitCubeMesh(N,N,N)\n",
    "        X = SpatialCoordinate(mesh) \n",
    "        u_ex = as_vector(3*[0.1*sin(pi*X[0]) * sin(pi*X[1])*sin(pi*X[2]) ,]) \n",
    "\n",
    "        dx = dx(metadata ={'quadrature_degree':2*k})\n",
    "        V = VectorFunctionSpace (mesh , \"CG\",k)\n",
    "        u = Function (V)\n",
    "        I = Identity(len (u))\n",
    "        F_ex, S_ex, psi_ex = problem(u_ex)\n",
    "        P_ex = F_ex * S_ex\n",
    "        f0 = -div(P_ex)\n",
    "\n",
    "        F,S,psi = problem(u)\n",
    "        v = TestFunction(V)\n",
    "        R = derivative(psi,u,v)*dx - inner(f0,v)*dx\n",
    "        J = derivative(R,u)\n",
    "        bc = DirichletBC(V, Constant((0 ,0 ,0)) ,\"on_boundary\")\n",
    "        solve(R==0,u ,[ bc ,] , J=J ) \n",
    "\n",
    "        #err = sqrt(assemble(((u-u_ex)**2 + (div(u)-div(u_ex))**2)*dx))\n",
    "        err = H1err(u)\n",
    "        print(f\"N = {N}: {err}\")\n",
    "        err_dict[k].append(err)"
   ]
  },
  {
   "cell_type": "code",
   "execution_count": 5,
   "metadata": {
    "scrolled": true
   },
   "outputs": [
    {
     "name": "stdout",
     "output_type": "stream",
     "text": [
      "Convergence rate (fitted) of the error in the H1 norm for poly order (k=1) is 1.0378470925934706\n",
      "Convergence rate (fitted) of the error in the H1 norm for poly order (k=2) is 1.9191775648499703\n",
      "Convergence rate (fitted) of the error in the H1 norm for poly order (k=3) is 2.9665925459534104\n"
     ]
    },
    {
     "data": {
      "image/png": "[encoded data removed]",
      "text/plain": [
       "<Figure size 432x288 with 1 Axes>"
      ]
     },
     "metadata": {
      "needs_background": "light"
     },
     "output_type": "display_data"
    }
   ],
   "source": [
    "for k in kvec:\n",
    "    plt.loglog(Nvec, err_dict[k],label=k)\n",
    "    slope, _ = np.polyfit(np.log(Nvec), np.log(err_dict[k]), 1)\n",
    "    print(f\"Convergence rate (fitted) of the error in the H1 norm for poly order (k={k}) is {-slope}\")\n",
    "    \n",
    "plt.xlabel('Number of elements')\n",
    "plt.ylabel('H1 error norm')\n",
    "plt.legend(title=\"Polynomial order\")\n",
    "plt.show()"
   ]
  },
  {
   "cell_type": "markdown",
   "metadata": {},
   "source": [
    "As expected, the H1 error converges on the order of $h$, $h^2$, and $h^3$ for polynomial bases orders of $1$, $2$, and $3$, respectively."
   ]
  },
  {
   "cell_type": "markdown",
   "metadata": {},
   "source": [
    "# Problem 2 - Using Gateaux Derivative to Derive Jacobian"
   ]
  },
  {
   "cell_type": "markdown",
   "metadata": {},
   "source": [
    "$$\n",
    "\\begin{align}\n",
    "d\\psi(u;v) &= (f_0, v) \\\\\n",
    "R &= 0 = d\\psi(u;v) - (f_0, v)\n",
    "\\end{align}\n",
    "$$"
   ]
  },
  {
   "cell_type": "markdown",
   "metadata": {},
   "source": [
    "Where $\\psi$ is the energy potential function"
   ]
  },
  {
   "cell_type": "code",
   "execution_count": 6,
   "metadata": {},
   "outputs": [],
   "source": [
    "from ufl import indices"
   ]
  },
  {
   "cell_type": "code",
   "execution_count": 7,
   "metadata": {},
   "outputs": [],
   "source": [
    "N = 8\n",
    "mesh = UnitCubeMesh(N,N,N)\n",
    "X = SpatialCoordinate(mesh) \n",
    "dx = dx(metadata ={'quadrature_degree':2})\n",
    "V = VectorFunctionSpace(mesh,\"CG\",1)\n",
    "\n",
    "du = TrialFunction(V)\n",
    "u = Function(V)\n",
    "v = TestFunction(V)\n",
    "\n",
    "def manual_problem(u):\n",
    "    i,j,s = indices(3) # s is a dummy index\n",
    "\n",
    "    K = Constant(1.0)\n",
    "    mu = Constant(1.0)\n",
    "    I = Identity(len(u))\n",
    "    F = as_tensor(I[i,j] + u[i].dx(j), (i,j))#I + grad(u) # deformation gradient\n",
    "    C = as_tensor(F[s,j]*F[s,i], (i,j))\n",
    "    E = as_tensor(0.5*(C[i,j]-I[i,j]), (i,j)) # Green-Lagrange Strain tensor\n",
    "    S = as_tensor(K*tr(E)*I[i,j] + 2.0*mu*(E[i,j] - tr(E)*I[i,j]/3.0), (i,j)) # 2nd PK Stress tensor\n",
    "    psi = 0.5*E[i,j]*S[i,j]\n",
    "    return F,S,psi\n",
    "\n",
    "_,_,psi = manual_problem(u)\n",
    "u_ex = as_vector(3*[0.1*sin(pi*X[0]) * sin(pi*X[1])*sin(pi*X[2]) ,]) \n",
    "F_ex, S_ex, psi_ex = manual_problem(u_ex)\n",
    "P_ex = F_ex * S_ex\n",
    "f0 = -div(P_ex) # using manufactured solution\n",
    "R = derivative(psi,u,v)*dx - inner(f0,v)*dx\n",
    "bc = DirichletBC(V, Constant((0 ,0 ,0)) ,\"on_boundary\")\n",
    "\n",
    "def manual_jacobian(u,V): \n",
    "    du = TrialFunction(V)\n",
    "    v = TestFunction(V)\n",
    "    i,j,k,l,s = indices(5) # s is a dummy index\n",
    "    K = Constant(1.0)\n",
    "    mu = Constant(1.0)\n",
    "    I = Identity(len(u))\n",
    "    Ctensor = as_tensor(K*I[i,j]*I[k,l] + mu*(I[i,k]*I[j,l] + I[i,l]*I[j,k]), (i,j,k,l)) # rank 4 isotropic tensor \n",
    "    F = as_tensor(I[i,j] + u[i].dx(j), (i,j))#I + grad(u) # deformation gradient\n",
    "    #C = F.T*F # Cauchy-Green tensor\n",
    "    C = as_tensor(F[s,j]*F[s,i], (i,j))\n",
    "    E = as_tensor(0.5*(C[i,j]-I[i,j]), (i,j)) # Green-Lagrange Strain tensor\n",
    "    S = as_tensor(K*tr(E)*I[i,j] + 2.0*mu*(E[i,j] - tr(E)*I[i,j]/3.0), (i,j)) # 2nd PK Stress tensor\n",
    "\n",
    "    J = (1/2*(du[s].dx(i)*v[s].dx(j) + du[s].dx(j)*v[s].dx(i))*Ctensor[i,j,k,l]*E[k,l] \\\n",
    "        + 1/4*(v[i].dx(j)+v[j].dx(i) + u[s].dx(i)*v[s].dx(j) + u[s].dx(j)*v[s].dx(i))*Ctensor[i,j,k,l]*(du[k].dx(l) + du[l].dx(k) + u[s].dx(k)*du[s].dx(l) + u[s].dx(l)*du[s].dx(k)))*dx\n",
    "    return J\n",
    "J = manual_jacobian(u,V)\n"
   ]
  },
  {
   "cell_type": "code",
   "execution_count": 8,
   "metadata": {},
   "outputs": [
    {
     "name": "stdout",
     "output_type": "stream",
     "text": [
      "0.06175998778164446\n",
      "0.038942769128707054\n",
      "0.03836040397035979\n",
      "0.038375167916049495\n",
      "0.038381042883361395\n"
     ]
    }
   ],
   "source": [
    "A,L = assemble_system(-J, R, bc)\n",
    "ddu = Function(V)\n",
    "u = Function(V)\n",
    "niter = 5\n",
    "\n",
    "for idx in range(niter):\n",
    "    solve(A, ddu.vector(), L)\n",
    "    u.assign(u+ddu)\n",
    "    \n",
    "    J = manual_jacobian(u,V)\n",
    "    _,_,psi = manual_problem(u)\n",
    "    R = derivative(psi,u,v)*dx - inner(f0,v)*dx\n",
    "    A,L = assemble_system(-J, R, bc)\n",
    "    print(H1err(u))"
   ]
  },
  {
   "cell_type": "markdown",
   "metadata": {},
   "source": [
    "H1 error converges... See attached image \"manual_gateaux_derivative.jpg\" for derivation"
   ]
  },
  {
   "cell_type": "markdown",
   "metadata": {},
   "source": [
    "<div>\n",
    "<img style=\"transform: rotate(90deg)\" src=\"manual_gateaux_derivative.jpg\" width=\"500\"/>\n",
    "</div>"
   ]
  },
  {
   "cell_type": "markdown",
   "metadata": {},
   "source": [
    "# Problem 3 - Updated Lagrangian Approach"
   ]
  },
  {
   "cell_type": "markdown",
   "metadata": {},
   "source": [
    "Now we simply use the 2nd (?...undeformed force in undeformed area?) PK stress tensor in the formulation of $R$ "
   ]
  },
  {
   "cell_type": "code",
   "execution_count": 9,
   "metadata": {},
   "outputs": [],
   "source": [
    "N = 8\n",
    "mesh = UnitCubeMesh(N,N,N)\n",
    "X = SpatialCoordinate(mesh) \n",
    "dx = dx(mesh,metadata ={'quadrature_degree':2})\n",
    "V = VectorFunctionSpace(mesh,\"CG\",1)\n",
    "\n",
    "du = TrialFunction(V)\n",
    "u = Function(V)\n",
    "v = TestFunction(V)\n",
    "\n",
    "F,S,psi = manual_problem(u)\n",
    "u_ex = as_vector(3*[0.1*sin(pi*X[0]) * sin(pi*X[1])*sin(pi*X[2]) ,]) \n",
    "F_ex, S_ex, psi_ex = manual_problem(u_ex)\n",
    "P_ex = F_ex * S_ex\n",
    "f0 = -div(S_ex) # using manufactured solution\n",
    "R = inner(S,grad(v))*dx - inner(f0,v)*dx\n",
    "bc = DirichletBC(V, Constant((0 ,0 ,0)) ,\"on_boundary\")"
   ]
  },
  {
   "cell_type": "code",
   "execution_count": 10,
   "metadata": {
    "scrolled": true
   },
   "outputs": [
    {
     "name": "stdout",
     "output_type": "stream",
     "text": [
      "0.06751443024668852\n",
      "0.04480882596283044\n",
      "0.04143984100009732\n",
      "0.041092986284665345\n",
      "0.04116197517643754\n"
     ]
    }
   ],
   "source": [
    "#J = derivative(R,u,v)\n",
    "J = manual_jacobian(u,V)\n",
    "A,L = assemble_system(-J, R, bc)\n",
    "ddu = Function(V)\n",
    "u = Function(V)\n",
    "niter = 5\n",
    "\n",
    "for idx in range(niter):\n",
    "    solve(A, ddu.vector(), L)\n",
    "    u.assign(u+ddu)\n",
    "    \n",
    "    ALE.move(mesh,ddu)\n",
    "\n",
    "    F,S,psi = manual_problem(u)\n",
    "    R = inner(S,grad(v))*dx - inner(f0,v)*dx\n",
    "    A,L = assemble_system(-J, R, bc)\n",
    "    print(H1err(u))"
   ]
  }
 ],
 "metadata": {
  "kernelspec": {
   "display_name": "Python (fenics)",
   "language": "python",
   "name": "fenics-project"
  },
  "language_info": {
   "codemirror_mode": {
    "name": "ipython",
    "version": 3
   },
   "file_extension": ".py",
   "mimetype": "text/x-python",
   "name": "python",
   "nbconvert_exporter": "python",
   "pygments_lexer": "ipython3",
   "version": "3.7.3"
  }
 },
 "nbformat": 4,
 "nbformat_minor": 2
}
