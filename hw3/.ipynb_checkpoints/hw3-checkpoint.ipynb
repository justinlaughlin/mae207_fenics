{
 "cells": [
  {
   "cell_type": "markdown",
   "metadata": {},
   "source": [
    "# Problem 1"
   ]
  },
  {
   "cell_type": "code",
   "execution_count": 1,
   "metadata": {},
   "outputs": [],
   "source": [
    "from dolfin import *\n",
    "import matplotlib.pyplot as plt\n",
    "import numpy as np\n",
    "import scipy.sparse as sp\n",
    "import scipy.sparse.linalg as spla"
   ]
  },
  {
   "cell_type": "code",
   "execution_count": 2,
   "metadata": {},
   "outputs": [],
   "source": [
    "Nel  = 500\n",
    "mesh = UnitIntervalMesh(Nel)\n",
    "V    = FunctionSpace(mesh, \"CG\", 1)\n",
    "u    = Function(V)\n",
    "v    = TestFunction(V)\n",
    "x    = SpatialCoordinate(mesh)\n",
    "F    = ((u+1)**2) * inner(grad(u), grad(v))*dx + (u*u + u)*v*dx - sin(pi*x[0])*v*dx\n",
    "\n",
    "du   = TrialFunction(V)\n",
    "J    = derivative(F, u, du)\n",
    "\n",
    "solve(F==0,u,[])"
   ]
  },
  {
   "cell_type": "code",
   "execution_count": 3,
   "metadata": {},
   "outputs": [
    {
     "data": {
      "text/plain": [
       "[<matplotlib.lines.Line2D at 0x120b76630>]"
      ]
     },
     "execution_count": 3,
     "metadata": {},
     "output_type": "execute_result"
    },
    {
     "data": {
      "image/png": "[encoded data removed]",
      "text/plain": [
       "<Figure size 432x288 with 1 Axes>"
      ]
     },
     "metadata": {
      "needs_background": "light"
     },
     "output_type": "display_data"
    }
   ],
   "source": [
    "xvec = np.linspace(0,1,Nel+1)\n",
    "plt.plot(xvec, u.compute_vertex_values())"
   ]
  },
  {
   "cell_type": "markdown",
   "metadata": {},
   "source": [
    "i.e. we are trying to find $u\\in V_h$ such that\n",
    "\n",
    "$$F(u;v) = \\int_\\Omega (u+1)^2 u' v' \\, d\\Omega + \\int_\\Omega (u^2+u)v \\,d\\Omega - \\int_\\Omega \\sin(\\pi x) v \\, d\\Omega = 0 ~~~~~~\\forall v \\in V_h$$ "
   ]
  },
  {
   "cell_type": "markdown",
   "metadata": {},
   "source": [
    "### 1a)"
   ]
  },
  {
   "cell_type": "markdown",
   "metadata": {},
   "source": [
    "The equivalent strong form can be derived as follows:\n",
    "\n",
    "First we use integration by parts on the first term; we note that the absence of boundary integral terms in $F(u;v)$ as well as no use of \"dolfin.DirichletBC()\" (i.e. strong enforcement) or a penalty term (weak enforcement) implies that the boundary conditions are homogeneous Neumann ($\\frac{du}{dn}=0 ~~\\text{on}~~ \\partial\\Omega$).\n",
    "\n",
    "$$\\int_\\Omega (u+1)^2 u' v' \\, d\\Omega = \\int_\\Omega \\left[-(u+1)^2 u'' - 2(u+1)u'^2 \\right] v \\, d\\Omega$$\n",
    "\n",
    "Plugging this result into $F(u;v)$ gives,\n",
    "\n",
    "$$\\int_\\Omega (u+1)\\left[ -(u+1) u'' - 2u'^2 + u \\right]v - \\sin(\\pi x)v \\, d\\Omega$$\n",
    "\n",
    "since $v$ is an arbitrary test function this result must hold for any $v \\in V^h$ thus we can express the strong form as:\n",
    "\n",
    "$$\\boxed{(u+1)\\left[ -(u+1) u'' - 2u'^2 + u \\right] = \\sin(\\pi x)}$$\n",
    "with homogeneous Neumann boundary condition\n",
    "$$\\boxed{\\frac{du}{dn}=0 ~~\\text{on}~~ \\partial\\Omega}$$"
   ]
  },
  {
   "cell_type": "markdown",
   "metadata": {},
   "source": [
    "### 1b)"
   ]
  },
  {
   "cell_type": "markdown",
   "metadata": {},
   "source": [
    "The intuition for Newton's method can easily be shown through a Taylor expansion of $F(u;v)$ around our current estimate of $u$. For notational simplicity we will ignore the dependence of $F(u;v)$ on $v$ as we are only differentiating with respect to $u$ and $v$ is an arbitrary test function anyways. We will refer to $u^n$ as the current estimate of $u$; the next approximation of $u$ will be referred to as $u^{n+1}$. $\\delta u \\equiv u^{n+1} - u^{n}$ is the scalar/vector we must travel to get from our current estimate of $u$ to the new estimate. Since we are searching for the root of $F(u)$, it is natural to assume $F(u^{n+1})=0$.\n",
    "\n",
    "$$F(u^n + \\delta u) = F(u^n) + \\frac{\\partial F}{\\partial u} (u^n) \\delta u + \\mathcal{O}(\\delta u ^2) = 0$$\n",
    "in the limit as $\\delta u \\rightarrow 0$ we can ignore the higher order terms\n",
    "$$\\boxed{\\frac{-\\partial F(u^n)}{\\partial u} \\delta u = F(u^n)}$$\n",
    "\n",
    "i.e. at each iteration we solve the linear system where the Jacobian of $F$ is the left-hand-side matrix and $F$ is the right-hand-side vector; the solution gives us $\\delta u$, and the new value of $u$ can be found simply by $u^{n+1} = u^n + \\delta u$.\n",
    "\n",
    "The implementation in FEniCS is as follows:"
   ]
  },
  {
   "cell_type": "code",
   "execution_count": 20,
   "metadata": {},
   "outputs": [
    {
     "data": {
      "text/plain": [
       "[<matplotlib.lines.Line2D at 0x124d538d0>]"
      ]
     },
     "execution_count": 20,
     "metadata": {},
     "output_type": "execute_result"
    },
    {
     "data": {
      "image/png": "[encoded data removed]",
      "text/plain": [
       "<Figure size 432x288 with 1 Axes>"
      ]
     },
     "metadata": {
      "needs_background": "light"
     },
     "output_type": "display_data"
    }
   ],
   "source": [
    "u     = Function(V) # u^{n+1}\n",
    "F     = ((u+1)**2) * inner(grad(u), grad(v))*dx + (u*u + u)*v*dx - sin(pi*x[0])*v*dx\n",
    "\n",
    "J     = derivative(F, u)\n",
    "niter = 5\n",
    "\n",
    "uv    = u.vector()\n",
    "#plt.plot(xvec, uv.get_local(), label='initial')\n",
    "\n",
    "for idx in range(niter):\n",
    "    # just so that we are very explicit in what is actually happening let's assemble the linear system\n",
    "    # as numpy matrices and solve through an external module (scipy) instead of using dolfin.solve()\n",
    "    A     = assemble(-J).array()      # Ndof x Ndof matrix\n",
    "    L     = assemble(F).get_local()   # Ndof x 1 vector\n",
    "    \n",
    "    # Instead of the lines below, one could equivalent use u = dolfin.solve(A,L,u)\n",
    "    Asp   = sp.csc_matrix(A)          # \"compressed sparse column\". Like many FE methods the lhs matrix is typically very sparse\n",
    "    du    = spla.spsolve(Asp,L)       # cast as a scipy sparse matrix type\n",
    "    uv.set_local(uv.get_local() + du) # assign newly computed solution\n",
    "\n",
    "plt.plot(xvec, uv.get_local())\n"
   ]
  },
  {
   "cell_type": "markdown",
   "metadata": {},
   "source": [
    "### 1c)"
   ]
  },
  {
   "cell_type": "markdown",
   "metadata": {},
   "source": [
    "Let's implement the Newton method on the same problem by computing the Gateaux derivative of $F$ manually...\n",
    "\n",
    "$$\\begin{align} \n",
    "J(u;v) &= \\lim_{\\varepsilon \\to 0} \\frac{d}{d\\varepsilon} F(u^n + \\varepsilon \\delta u; v) \\\\\n",
    "&= \\lim_{\\varepsilon \\to 0} \\frac{d}{d\\varepsilon} \\int_\\Omega (u+1)^2 u' v' + (u^2+u)v  - \\sin(\\pi x) v \\, d\\Omega \\\\\n",
    "&= \\lim_{\\varepsilon \\to 0} \\frac{d}{d\\varepsilon} \\int_\\Omega (u^n+\\varepsilon \\delta u+1)^2 (u^n+\\varepsilon \\delta u)' v' + (u^n+\\varepsilon \\delta u)(u^n+\\varepsilon \\delta u+1)v  - \\sin(\\pi x) v \\, d\\Omega \\\\\n",
    "&= \\lim_{\\varepsilon \\to 0} \\int_\\Omega 2(u^n+\\varepsilon \\delta u+1) \\delta u (u^n+\\varepsilon \\delta u)' v' + (u^n+\\varepsilon\\delta u + 1)^2 \\delta u' v' + \\delta u (u^n + \\varepsilon \\delta u + 1)v + \\delta u (u^n + \\varepsilon \\delta u)v\\, d\\Omega \\\\\n",
    "&= \\int_\\Omega 2(u^n+1) \\delta u (u^n)' v' + (u^n+1)^2 \\delta u' v' + \\delta u (2u^n+1)v \\, d\\Omega \n",
    "\\end{align}$$"
   ]
  },
  {
   "cell_type": "code",
   "execution_count": 70,
   "metadata": {},
   "outputs": [],
   "source": [
    "u      = Function(V) # u^{n}\n",
    "v      = TestFunction(V)\n",
    "du     = TrialFunction(V)\n",
    "J      = (2*(u+1)*du*inner(grad(u),grad(v)) + (u+1)**2*inner(grad(du),grad(v)) + du*(2*u+1)*v)*dx\n",
    "F      = ((u+1)**2) * inner(grad(u), grad(v))*dx + (u*u + u)*v*dx - sin(pi*x[0])*v*dx\n",
    "du     = Function(V)"
   ]
  },
  {
   "cell_type": "code",
   "execution_count": 72,
   "metadata": {
    "scrolled": true
   },
   "outputs": [
    {
     "data": {
      "text/plain": [
       "[<matplotlib.lines.Line2D at 0x124cb2400>]"
      ]
     },
     "execution_count": 72,
     "metadata": {},
     "output_type": "execute_result"
    },
    {
     "data": {
      "image/png": "[encoded data removed]",
      "text/plain": [
       "<Figure size 432x288 with 1 Axes>"
      ]
     },
     "metadata": {
      "needs_background": "light"
     },
     "output_type": "display_data"
    }
   ],
   "source": [
    "niter = 5\n",
    "\n",
    "for idx in range(niter):\n",
    "    # just so that we are very explicit in what is actually happening let's assemble the linear system\n",
    "    # as numpy matrices and solve through an external module (scipy) instead of using dolfin.solve()\n",
    "    A     = assemble(-J)      # Ndof x Ndof matrix\n",
    "    L     = assemble(F)       # Ndof x 1 vector\n",
    "    solve(A,du.vector(),L)\n",
    "    u.assign(u+du)    \n",
    "\n",
    "plt.plot(xvec, u.vector().get_local())"
   ]
  }
 ],
 "metadata": {
  "kernelspec": {
   "display_name": "Python (fenics)",
   "language": "python",
   "name": "fenics-project"
  },
  "language_info": {
   "codemirror_mode": {
    "name": "ipython",
    "version": 3
   },
   "file_extension": ".py",
   "mimetype": "text/x-python",
   "name": "python",
   "nbconvert_exporter": "python",
   "pygments_lexer": "ipython3",
   "version": "3.7.3"
  }
 },
 "nbformat": 4,
 "nbformat_minor": 2
}
