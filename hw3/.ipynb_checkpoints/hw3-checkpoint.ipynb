{
 "cells": [
  {
   "cell_type": "markdown",
   "metadata": {},
   "source": [
    "# Problem 1 - Newton's Method Implementation"
   ]
  },
  {
   "cell_type": "code",
   "execution_count": 52,
   "metadata": {},
   "outputs": [],
   "source": [
    "from dolfin import *\n",
    "import matplotlib.pyplot as plt\n",
    "import numpy as np\n",
    "import scipy.sparse as sp\n",
    "import scipy.sparse.linalg as spla"
   ]
  },
  {
   "cell_type": "code",
   "execution_count": 53,
   "metadata": {},
   "outputs": [],
   "source": [
    "Nel  = 500\n",
    "mesh = UnitIntervalMesh(Nel)\n",
    "V    = FunctionSpace(mesh, \"CG\", 1)\n",
    "u    = Function(V)\n",
    "v    = TestFunction(V)\n",
    "x    = SpatialCoordinate(mesh)\n",
    "F    = ((u+1)**2) * inner(grad(u), grad(v))*dx + (u*u + u)*v*dx - sin(pi*x[0])*v*dx\n",
    "\n",
    "du   = TrialFunction(V)\n",
    "J    = derivative(F, u, du)\n",
    "\n",
    "solve(F==0,u,[])"
   ]
  },
  {
   "cell_type": "code",
   "execution_count": 54,
   "metadata": {},
   "outputs": [
    {
     "data": {
      "text/plain": [
       "[<matplotlib.lines.Line2D at 0x11bd516d8>]"
      ]
     },
     "execution_count": 54,
     "metadata": {},
     "output_type": "execute_result"
    },
    {
     "data": {
      "image/png": "[encoded data removed]",
      "text/plain": [
       "<Figure size 432x288 with 1 Axes>"
      ]
     },
     "metadata": {
      "needs_background": "light"
     },
     "output_type": "display_data"
    }
   ],
   "source": [
    "xvec = np.linspace(0,1,Nel+1)\n",
    "plt.plot(xvec, u.compute_vertex_values())"
   ]
  },
  {
   "cell_type": "markdown",
   "metadata": {},
   "source": [
    "i.e. we are trying to find $u\\in V_h$ such that\n",
    "\n",
    "$$F(u;v) = \\int_\\Omega (u+1)^2 u' v' \\, d\\Omega + \\int_\\Omega (u^2+u)v \\,d\\Omega - \\int_\\Omega \\sin(\\pi x) v \\, d\\Omega = 0 ~~~~~~\\forall v \\in V_h$$ "
   ]
  },
  {
   "cell_type": "markdown",
   "metadata": {},
   "source": [
    "### 1a)"
   ]
  },
  {
   "cell_type": "markdown",
   "metadata": {},
   "source": [
    "The equivalent strong form can be derived as follows:\n",
    "\n",
    "First we use integration by parts on the first term; we note that the absence of boundary integral terms in $F(u;v)$ as well as no use of \"dolfin.DirichletBC()\" (i.e. strong enforcement) or a penalty term (weak enforcement) implies that the boundary conditions are homogeneous Neumann ($\\frac{du}{dn}=0 ~~\\text{on}~~ \\partial\\Omega$).\n",
    "\n",
    "$$\\int_\\Omega (u+1)^2 u' v' \\, d\\Omega = \\int_\\Omega \\left[-(u+1)^2 u'' - 2(u+1)u'^2 \\right] v \\, d\\Omega$$\n",
    "\n",
    "Plugging this result into $F(u;v)$ gives,\n",
    "\n",
    "$$\\int_\\Omega (u+1)\\left[ -(u+1) u'' - 2u'^2 + u \\right]v - \\sin(\\pi x)v \\, d\\Omega$$\n",
    "\n",
    "since $v$ is an arbitrary test function this result must hold for any $v \\in V^h$ thus we can express the strong form as:\n",
    "\n",
    "$$\\boxed{(u+1)\\left[ -(u+1) u'' - 2u'^2 + u \\right] = \\sin(\\pi x)}$$\n",
    "with homogeneous Neumann boundary condition\n",
    "$$\\boxed{\\frac{du}{dn}=0 ~~\\text{on}~~ \\partial\\Omega}$$"
   ]
  },
  {
   "cell_type": "markdown",
   "metadata": {},
   "source": [
    "### 1b)"
   ]
  },
  {
   "cell_type": "markdown",
   "metadata": {},
   "source": [
    "The intuition for Newton's method can easily be shown through a Taylor expansion of $F(u;v)$ around our current estimate of $u$. For notational simplicity we will ignore the dependence of $F(u;v)$ on $v$ as we are only differentiating with respect to $u$ and $v$ is an arbitrary test function anyways. We will refer to $u^n$ as the current estimate of $u$; the next approximation of $u$ will be referred to as $u^{n+1}$. $\\delta u \\equiv u^{n+1} - u^{n}$ is the scalar/vector we must travel to get from our current estimate of $u$ to the new estimate. Since we are searching for the root of $F(u)$, it is natural to assume $F(u^{n+1})=0$.\n",
    "\n",
    "$$F(u^n + \\delta u) = F(u^n) + \\frac{\\partial F}{\\partial u} (u^n) \\delta u + \\mathcal{O}(\\delta u ^2) = 0$$\n",
    "in the limit as $\\delta u \\rightarrow 0$ we can ignore the higher order terms\n",
    "$$\\boxed{\\frac{-\\partial F(u^n)}{\\partial u} \\delta u = F(u^n)}$$\n",
    "\n",
    "i.e. at each iteration we solve the linear system where the Jacobian of $F$ is the left-hand-side matrix and $F$ is the right-hand-side vector; the solution gives us $\\delta u$, and the new value of $u$ can be found simply by $u^{n+1} = u^n + \\delta u$.\n",
    "\n",
    "The implementation in FEniCS is as follows:"
   ]
  },
  {
   "cell_type": "code",
   "execution_count": 55,
   "metadata": {},
   "outputs": [
    {
     "data": {
      "text/plain": [
       "[<matplotlib.lines.Line2D at 0x11badb400>]"
      ]
     },
     "execution_count": 55,
     "metadata": {},
     "output_type": "execute_result"
    },
    {
     "data": {
      "image/png": "[encoded data removed]",
      "text/plain": [
       "<Figure size 432x288 with 1 Axes>"
      ]
     },
     "metadata": {
      "needs_background": "light"
     },
     "output_type": "display_data"
    }
   ],
   "source": [
    "u     = Function(V) # u^{n+1}\n",
    "F     = ((u+1)**2) * inner(grad(u), grad(v))*dx + (u*u + u)*v*dx - sin(pi*x[0])*v*dx\n",
    "\n",
    "J     = derivative(F, u)\n",
    "niter = 5\n",
    "\n",
    "uv    = u.vector()\n",
    "#plt.plot(xvec, uv.get_local(), label='initial')\n",
    "\n",
    "for idx in range(niter):\n",
    "    # just so that we are very explicit in what is actually happening let's assemble the linear system\n",
    "    # as numpy matrices and solve through an external module (scipy) instead of using dolfin.solve()\n",
    "    A     = assemble(-J).array()      # Ndof x Ndof matrix\n",
    "    L     = assemble(F).get_local()   # Ndof x 1 vector\n",
    "    \n",
    "    # Instead of the lines below, one could equivalent use u = dolfin.solve(A,L,u)\n",
    "    Asp   = sp.csc_matrix(A)          # \"compressed sparse column\". Like many FE methods the lhs matrix is typically very sparse\n",
    "    du    = spla.spsolve(Asp,L)       # cast as a scipy sparse matrix type\n",
    "    uv.set_local(uv.get_local() + du) # assign newly computed solution\n",
    "\n",
    "plt.plot(xvec, uv.get_local())\n"
   ]
  },
  {
   "cell_type": "markdown",
   "metadata": {},
   "source": [
    "### 1c)"
   ]
  },
  {
   "cell_type": "markdown",
   "metadata": {},
   "source": [
    "Let's implement the Newton method on the same problem by computing the Gateaux derivative of $F$ manually...\n",
    "\n",
    "$$\\begin{align} \n",
    "J(u;v) &= \\lim_{\\varepsilon \\to 0} \\frac{d}{d\\varepsilon} F(u^n + \\varepsilon \\delta u; v) \\\\\n",
    "&= \\lim_{\\varepsilon \\to 0} \\frac{d}{d\\varepsilon} \\int_\\Omega (u+1)^2 u' v' + (u^2+u)v  - \\sin(\\pi x) v \\, d\\Omega \\\\\n",
    "&= \\lim_{\\varepsilon \\to 0} \\frac{d}{d\\varepsilon} \\int_\\Omega (u^n+\\varepsilon \\delta u+1)^2 (u^n+\\varepsilon \\delta u)' v' + (u^n+\\varepsilon \\delta u)(u^n+\\varepsilon \\delta u+1)v  - \\sin(\\pi x) v \\, d\\Omega \\\\\n",
    "&= \\lim_{\\varepsilon \\to 0} \\int_\\Omega 2(u^n+\\varepsilon \\delta u+1) \\delta u (u^n+\\varepsilon \\delta u)' v' + (u^n+\\varepsilon\\delta u + 1)^2 \\delta u' v' + \\delta u (u^n + \\varepsilon \\delta u + 1)v + \\delta u (u^n + \\varepsilon \\delta u)v\\, d\\Omega \\\\\n",
    "&= \\int_\\Omega 2(u^n+1) \\delta u (u^n)' v' + (u^n+1)^2 \\delta u' v' + \\delta u (2u^n+1)v \\, d\\Omega \n",
    "\\end{align}$$"
   ]
  },
  {
   "cell_type": "code",
   "execution_count": 56,
   "metadata": {},
   "outputs": [],
   "source": [
    "u      = Function(V) # u^{n}\n",
    "v      = TestFunction(V)\n",
    "du     = TrialFunction(V)\n",
    "J      = (2*(u+1)*du*inner(grad(u),grad(v)) + (u+1)**2*inner(grad(du),grad(v)) + du*(2*u+1)*v)*dx\n",
    "F      = ((u+1)**2) * inner(grad(u), grad(v))*dx + (u*u + u)*v*dx - sin(pi*x[0])*v*dx\n",
    "du     = Function(V)"
   ]
  },
  {
   "cell_type": "code",
   "execution_count": 57,
   "metadata": {
    "scrolled": true
   },
   "outputs": [
    {
     "data": {
      "text/plain": [
       "[<matplotlib.lines.Line2D at 0x11bb531d0>]"
      ]
     },
     "execution_count": 57,
     "metadata": {},
     "output_type": "execute_result"
    },
    {
     "data": {
      "image/png": "[encoded data removed]",
      "text/plain": [
       "<Figure size 432x288 with 1 Axes>"
      ]
     },
     "metadata": {
      "needs_background": "light"
     },
     "output_type": "display_data"
    }
   ],
   "source": [
    "niter = 5 # number of newton iterations\n",
    "\n",
    "for idx in range(niter):\n",
    "    # just so that we are very explicit in what is actually happening let's assemble the linear system\n",
    "    # as numpy matrices and solve through an external module (scipy) instead of using dolfin.solve()\n",
    "    A     = assemble(-J)      # Ndof x Ndof matrix\n",
    "    L     = assemble(F)       # Ndof x 1 vector\n",
    "    solve(A,du.vector(),L)\n",
    "    u.assign(u+du)    \n",
    "\n",
    "plt.plot(xvec, u.vector().get_local())"
   ]
  },
  {
   "cell_type": "markdown",
   "metadata": {},
   "source": [
    "# Problem 2 - Method of Manufactured Solutions"
   ]
  },
  {
   "cell_type": "markdown",
   "metadata": {},
   "source": [
    "We will manufacture the RHS, $f(x)$, by assuming the solution $u(x)= \\sin(\\pi x)$ and plugging into the PDE:\n",
    "\n",
    "$$\n",
    "\\begin{align}\n",
    "-\\left( \\left(u^2+1 \\right) u' \\right)' &= f ~~~~~~~~\\forall x \\in (0,1) \\\\\n",
    "u(0) &= u(1) = 0\n",
    "\\end{align}\n",
    "$$"
   ]
  },
  {
   "cell_type": "markdown",
   "metadata": {},
   "source": [
    "\n",
    "$$\n",
    "\\begin{align}\n",
    "f &= -\\left( \\left(\\sin^2(\\pi x)+1 \\right) \\pi \\cos(\\pi x) \\right)' \\\\\n",
    "&= -\\pi^2 \\left( - \\sin(\\pi x) -\\sin^3(\\pi x) + 2 \\sin(\\pi x) \\cos^2(\\pi x) \\right) \\\\\n",
    "&= (-\\pi^2 \\sin(\\pi x)) \\left(-1 - \\sin^2(\\pi x) + 2 \\cos^2(\\pi x) \\right) \\\\\n",
    "&= (-\\pi^2 \\sin(\\pi x)) \\left(-1 - 2\\sin^2(\\pi x) + (\\sin^2(\\pi x) + \\cos^2{\\pi x}) + \\cos^2{\\pi x} \\right) \\\\\n",
    "&= (-\\pi^2 \\sin(\\pi x)) \\left(- 2\\sin^2(\\pi x) + \\cos^2(\\pi x) \\right) \\\\\n",
    "&= \\boxed{(-\\pi^2 \\sin(\\pi x)) \\left(3\\sin^2(\\pi x) + 1 \\right)} \\\\\n",
    "\\end{align}\n",
    "$$"
   ]
  },
  {
   "cell_type": "code",
   "execution_count": 58,
   "metadata": {},
   "outputs": [],
   "source": [
    "Nelvec = [2**x for x in range(2,10)]\n",
    "H1err  = [0]*len(Nelvec)\n",
    "for idx, Nel in enumerate(Nelvec):\n",
    "    mesh = UnitIntervalMesh(Nel)\n",
    "    x    = SpatialCoordinate(mesh)\n",
    "    V    = FunctionSpace(mesh, \"CG\", 1)\n",
    "    v    = TestFunction(V)\n",
    "    usol = sin(pi*x[0])\n",
    "    f    = -div((usol**2+1)*grad(usol))\n",
    "\n",
    "    u = Function(V)\n",
    "    v = TestFunction(V)\n",
    "    F = (inner((u**2+1)*grad(u), grad(v)) - f*v)*dx\n",
    "    def boundary_ends(x, on_boundary):\n",
    "        return on_boundary and (near(x[0],0) or near(x[0],1))\n",
    "    bc = DirichletBC(V, Constant(0.0), boundary_ends)\n",
    "    solve(F==0, u, bcs=bc)\n",
    "    H1err[idx] = sqrt(assemble(((u - usol)**2 + (grad(u) - grad(usol))**2)*dx))"
   ]
  },
  {
   "cell_type": "code",
   "execution_count": 59,
   "metadata": {},
   "outputs": [
    {
     "name": "stdout",
     "output_type": "stream",
     "text": [
      "Convergence rate (fitted) of the error in the H1 norm is 0.9989593848813509 (1 is optimal)\n"
     ]
    },
    {
     "data": {
      "image/png": "[encoded data removed]",
      "text/plain": [
       "<Figure size 432x288 with 1 Axes>"
      ]
     },
     "metadata": {
      "needs_background": "light"
     },
     "output_type": "display_data"
    }
   ],
   "source": [
    "# Plot errors\n",
    "plt.loglog(Nelvec,H1err)\n",
    "plt.xlabel('Number of elements')\n",
    "plt.ylabel('H1 error norm')\n",
    "slope, _ = np.polyfit(np.log(Nelvec), np.log(H1err), 1)\n",
    "print(f\"Convergence rate (fitted) of the error in the H1 norm is {-slope} (1 is optimal)\")"
   ]
  },
  {
   "cell_type": "markdown",
   "metadata": {},
   "source": [
    "# Problem 3 - Heat Conduction"
   ]
  },
  {
   "cell_type": "markdown",
   "metadata": {},
   "source": [
    "### 3a)"
   ]
  },
  {
   "cell_type": "markdown",
   "metadata": {},
   "source": [
    "$$\n",
    "\\begin{align}\n",
    "\\partial_t u(x,t) &= \\nabla^2 u(x,t) + f(u) ~~~~\\text{in}~~~~ \\Omega \\\\\n",
    "u(x,t) &= 0 ~~~~\\text{on}~~~~ \\partial\\Omega \\\\\n",
    "u(x,t=0) &= 0 ~~~~\\text{in}~~~~~ \\Omega\n",
    "\\end{align}\n",
    "$$"
   ]
  },
  {
   "cell_type": "markdown",
   "metadata": {},
   "source": [
    "$f(u)$ is chosen such that the PDE is satisfied exactly when $u(x,t)=\\sin(t) \\sin(\\pi x)$ (method of manufactured solutions)"
   ]
  },
  {
   "cell_type": "markdown",
   "metadata": {},
   "source": [
    "### 3b)"
   ]
  },
  {
   "cell_type": "markdown",
   "metadata": {},
   "source": [
    "We solve the above system using the trapezoidal/Crank-Nicholson integration rule"
   ]
  },
  {
   "cell_type": "code",
   "execution_count": 178,
   "metadata": {},
   "outputs": [],
   "source": [
    "def solve_for_Nel(Nel, function_space_order=1, time_int_alpha=0.5):\n",
    "    C = 1\n",
    "    N = C*Nel # number of timesteps\n",
    "    Tfinal = 1.0\n",
    "    dt = Constant(Tfinal/N)\n",
    "    mesh = UnitIntervalMesh(Nel)\n",
    "    x = SpatialCoordinate(mesh)\n",
    "    V = FunctionSpace(mesh, \"CG\", function_space_order)\n",
    "\n",
    "    u = TrialFunction(V)\n",
    "    uold = Function(V)\n",
    "    v = TestFunction(V)\n",
    "    t = Constant(dt)\n",
    "    told = Constant(0.0)\n",
    "    u_t = (u-uold)/dt\n",
    "\n",
    "    # manufactured RHS\n",
    "    usol   = lambda t: sin(t) * sin(pi * x[0])\n",
    "    usol_t = lambda t: cos(t) * sin(pi * x[0])\n",
    "    f      = lambda t: usol_t(t) - div(grad(usol(t)))\n",
    "\n",
    "    # # bilinear, linear forms\n",
    "    F = (u_t*v + alpha*(inner(grad(u), grad(v)) - f(t)*v) + (1-alpha)*(inner(grad(uold), grad(v)) - f(told)*v))*dx\n",
    "    a, L = lhs(F), rhs(F)\n",
    "    bc = DirichletBC(V, Constant(0.0), \"on_boundary\")\n",
    "    u = Function(V)\n",
    "\n",
    "    for idx in range(N):\n",
    "        solve(a==L, u, bcs=bc)\n",
    "        uold.assign(u)\n",
    "        t.assign(t+dt)\n",
    "        told.assign(told+dt)\n",
    "    \n",
    "    return {\"L2\": sqrt(assemble((u-usol(told))**2*dx)), \"H1semi\": sqrt(assemble(((grad(u)-grad(usol(told)))**2*dx)))}"
   ]
  },
  {
   "cell_type": "markdown",
   "metadata": {},
   "source": [
    "### 3c) and 3d)"
   ]
  },
  {
   "cell_type": "markdown",
   "metadata": {},
   "source": [
    "Verification that L2 error converges at rate two"
   ]
  },
  {
   "cell_type": "code",
   "execution_count": 179,
   "metadata": {},
   "outputs": [
    {
     "name": "stdout",
     "output_type": "stream",
     "text": [
      "Calling FFC just-in-time (JIT) compiler, this may take some time.\n",
      "Calling FFC just-in-time (JIT) compiler, this may take some time.\n",
      "Calling FFC just-in-time (JIT) compiler, this may take some time.\n",
      "Calling FFC just-in-time (JIT) compiler, this may take some time.\n"
     ]
    }
   ],
   "source": [
    "Nelvec = [x**2 for x in range(2,10)]\n",
    "err = {}\n",
    "for alpha in [0.5, 1.0]: # generalized trapezoidal rule parameter\n",
    "    for CG_order in [1, 2]:\n",
    "        err[(alpha, CG_order, \"L2\")] = []\n",
    "        err[(alpha, CG_order, \"H1semi\")] = []\n",
    "        for Nel in Nelvec:\n",
    "            temp = solve_for_Nel(Nel, function_space_order=CG_order, time_int_alpha=alpha)\n",
    "            err[(alpha, CG_order, \"L2\")].append(temp[\"L2\"])\n",
    "            err[(alpha, CG_order, \"H1semi\")].append(temp[\"H1semi\"])"
   ]
  },
  {
   "cell_type": "markdown",
   "metadata": {},
   "source": [
    "Plot"
   ]
  },
  {
   "cell_type": "code",
   "execution_count": 188,
   "metadata": {
    "scrolled": false
   },
   "outputs": [
    {
     "name": "stdout",
     "output_type": "stream",
     "text": [
      "alpha=0.5, CG1: Convergence rate (fitted) of the error in the H1 semi norm is 0.9972392226151334\n",
      "alpha=0.5, CG2: Convergence rate (fitted) of the error in the H1 semi norm is 1.9976003325023297\n",
      "alpha=1.0, CG1: Convergence rate (fitted) of the error in the H1 semi norm is 0.9969442241638923\n",
      "alpha=1.0, CG2: Convergence rate (fitted) of the error in the H1 semi norm is 1.22493407445725\n"
     ]
    },
    {
     "data": {
      "text/plain": [
       "<matplotlib.legend.Legend at 0x11be9a2b0>"
      ]
     },
     "execution_count": 188,
     "metadata": {},
     "output_type": "execute_result"
    },
    {
     "data": {
      "image/png": "[encoded data removed]",
      "text/plain": [
       "<Figure size 432x288 with 1 Axes>"
      ]
     },
     "metadata": {
      "needs_background": "light"
     },
     "output_type": "display_data"
    }
   ],
   "source": [
    "for alpha in [0.5, 1.0]: # generalized trapezoidal rule parameter\n",
    "    for CG_order in [1, 2]:\n",
    "        plt.loglog(Nelvec, err[(alpha,CG_order,\"H1semi\")], label=f'alpha={alpha}, CG{CG_order}')\n",
    "        slope, _ = np.polyfit(np.log(Nelvec), np.log(err[(alpha,CG_order,\"H1semi\")]), 1)\n",
    "        print(f\"alpha={alpha}, CG{CG_order}: Convergence rate (fitted) of the error in the H1 semi norm is {-slope}\")\n",
    "plt.xlabel('Number of elements')\n",
    "plt.ylabel('H1 semi norm of error')\n",
    "plt.legend()"
   ]
  },
  {
   "cell_type": "markdown",
   "metadata": {},
   "source": [
    "In both cases where the discretization was over CG2, the errors not only had a smaller intercept but a steeper slope. Since Crank-Nicholson is second order compared to backward Euler which is first, we see that it converges more rapidly in th H1 seminorm. Convergence rates can depend on the regularity of the mesh, which is one possibility for the non-integer convergence rate of CG1 using backward Euler."
   ]
  },
  {
   "cell_type": "markdown",
   "metadata": {},
   "source": [
    "# Problem 4 - Coupled PDEs"
   ]
  },
  {
   "cell_type": "markdown",
   "metadata": {},
   "source": [
    "### 4a)"
   ]
  },
  {
   "cell_type": "markdown",
   "metadata": {},
   "source": [
    "The problem described is steady heat conduction (i.e.~the Poisson equation) coupled one-way to linear elastostatics via thermal expansion in the strain term. We define the strain, hydrostatic strain, and stress as such (note that we use the comma notation to indicate a partial derivative with respect to an index)\n",
    "\n",
    "$$\n",
    "\\begin{align}\n",
    "\\varepsilon_{ij} &= u_{(i,j)} - \\alpha T \\delta_{ij}= \\frac12 (u_{i,j} + u_{j,i}) - \\alpha T \\delta_{ij} \\\\\n",
    "\\text{tr} \\varepsilon_{ij} &= \\varepsilon_{kk} = p = 3u_{i,i} - 3 \\alpha T \\\\\n",
    "\\sigma_{ij} &= K p \\delta_{ij} + 2 G \\left(\\varepsilon_{ij} - \\frac{p}{3} \\delta_{ij}\\right)\n",
    "\\end{align}\n",
    "$$"
   ]
  },
  {
   "cell_type": "markdown",
   "metadata": {},
   "source": [
    "Now we convert the weak form into the strong form"
   ]
  },
  {
   "cell_type": "markdown",
   "metadata": {},
   "source": [
    "$$\n",
    "\\begin{align}\n",
    "a(\\sigma, T ; v, Q) &= L(f,v) \n",
    "\\end{align}\n",
    "$$\n"
   ]
  },
  {
   "cell_type": "markdown",
   "metadata": {},
   "source": [
    "$$\n",
    "\\begin{align}\n",
    "a &= (\\sigma_{ij} ~,~ v_{i,j}) + (kT_{,i} ~,~  Q_{,i}) \\\\\n",
    "&= -(\\sigma_{ij,j} ~,~ v_i) - (kT_{,ii} ~,~  Q) \\\\\n",
    "L &= (f_i ~,~ v_i)\n",
    "\\end{align}\n",
    "$$\n"
   ]
  },
  {
   "cell_type": "markdown",
   "metadata": {},
   "source": [
    "Under the argument that $v_i$ and $Q$ are arbitrary test functions, we can derive the strong forms,\n",
    "$$\n",
    "\\begin{align}\n",
    "-\\sigma_{ij,j} &= f_i  ~~~~\\text{in}~~~~ \\Omega \\\\\n",
    "u_0 &= 0 ~~~~\\text{on}~~~~ \\partial\\Omega \\cap (x_0=0) \\\\\n",
    "u_1 &= 0 ~~~~\\text{on}~~~~ \\partial\\Omega \\cap (x_1=0) \\\\\n",
    "u_2 &= 0 ~~~~\\text{on}~~~~ \\partial\\Omega \\cap (x_2=0) \\\\\n",
    "\\sigma_{ij} n_j &= 0 ~~~~\\text{else}~~~\n",
    "\\end{align}\n",
    "$$\n",
    "where $n_j$ is the unit normal vector.\n",
    "\n",
    "$$\n",
    "\\begin{align}\n",
    "-k\\nabla^2 T &= 0 ~~~~\\text{in}~~~~ \\Omega \\\\\n",
    "T &= 0 ~~~~\\text{on}~~~~ \\partial\\Omega \\cap (x_0=0) \\\\\n",
    "T &= 1 ~~~~\\text{on}~~~~ \\partial\\Omega \\cap (x_1=0) \\\\\n",
    "\\nabla T \\cdot \\mathbf{n} &= 0 ~~~~\\text{on}~~~~ \\partial\\Omega \\\\\n",
    "\\end{align}\n",
    "$$\n"
   ]
  },
  {
   "cell_type": "markdown",
   "metadata": {},
   "source": [
    "### 4b)"
   ]
  },
  {
   "cell_type": "markdown",
   "metadata": {},
   "source": [
    "Original code..."
   ]
  },
  {
   "cell_type": "code",
   "execution_count": 198,
   "metadata": {},
   "outputs": [
    {
     "name": "stdout",
     "output_type": "stream",
     "text": [
      "Calling FFC just-in-time (JIT) compiler, this may take some time.\n",
      "Calling FFC just-in-time (JIT) compiler, this may take some time.\n",
      "Calling FFC just-in-time (JIT) compiler, this may take some time.\n"
     ]
    }
   ],
   "source": [
    "from dolfin import *\n",
    "N = 16\n",
    "mesh = UnitCubeMesh(N,N,N)\n",
    "d = mesh.geometry().dim()\n",
    "cell = mesh.ufl_cell()\n",
    "uE = VectorElement(\"CG\", cell, 1)\n",
    "TE = FiniteElement(\"CG\", cell, 1)\n",
    "V = FunctionSpace(mesh, MixedElement([uE,TE]))\n",
    "def b0(x, on_boundary):\n",
    "    return on_boundary and near(x[0],0)\n",
    "def b1(x, on_boundary):\n",
    "    return on_boundary and near(x[1],0)\n",
    "def b2(x, on_boundary):\n",
    "    return on_boundary and near(x[2],0)\n",
    "bcu0 = DirichletBC(V.sub(0).sub(0), Constant(0), b0)\n",
    "bcu1 = DirichletBC(V.sub(0).sub(1), Constant(0), b1)\n",
    "bcu2 = DirichletBC(V.sub(0).sub(2), Constant(0), b2)\n",
    "bcT0 = DirichletBC(V.sub(1), Constant(0), b0)\n",
    "bcT1 = DirichletBC(V.sub(1), Constant(1), b1)\n",
    "u,T = TrialFunctions(V)\n",
    "v,Q = TestFunctions(V)\n",
    "K = Constant(1)\n",
    "G = Constant(1)\n",
    "alpha = Constant(1)\n",
    "I = Identity(d)\n",
    "eps = sym(grad(u)) - alpha*I*T\n",
    "sigma = K*tr(eps)*I + 2*G*(eps-tr(eps)*I/3)\n",
    "f = Constant(d*(0,))\n",
    "k = Constant(1)\n",
    "\n",
    "a = inner(sigma, grad(v))*dx + dot(k*grad(T),grad(Q))*dx\n",
    "L = inner(f,v)*dx\n",
    "uTh = Function(V)\n",
    "solve(a==L,uTh, [bcu0, bcu1, bcu2, bcT0, bcT1])\n",
    "uout, Tout = uTh.split()\n",
    "File(\"u.pvd\") << uout\n",
    "File(\"T.pvd\") << Tout"
   ]
  },
  {
   "cell_type": "markdown",
   "metadata": {},
   "source": [
    "Modified code to solve problems separately..."
   ]
  },
  {
   "cell_type": "code",
   "execution_count": 215,
   "metadata": {},
   "outputs": [],
   "source": [
    "from dolfin import *\n",
    "N = 16\n",
    "mesh = UnitCubeMesh(N,N,N)\n",
    "d = mesh.geometry().dim()\n",
    "Vu = VectorFunctionSpace(mesh, \"CG\", 1, dim=d)\n",
    "VT = FunctionSpace(mesh, \"CG\", 1)\n",
    "def b0(x, on_boundary):\n",
    "    return on_boundary and near(x[0],0)\n",
    "def b1(x, on_boundary):\n",
    "    return on_boundary and near(x[1],0)\n",
    "def b2(x, on_boundary):\n",
    "    return on_boundary and near(x[2],0)\n",
    "bcu0 = DirichletBC(Vu.sub(0), Constant(0), b0)\n",
    "bcu1 = DirichletBC(Vu.sub(1), Constant(0), b1)\n",
    "bcu2 = DirichletBC(Vu.sub(2), Constant(0), b2)\n",
    "bcT0 = DirichletBC(VT, Constant(0), b0)\n",
    "bcT1 = DirichletBC(VT, Constant(1), b1)\n",
    "\n",
    "K = Constant(1)\n",
    "G = Constant(1)\n",
    "alpha = Constant(1)\n",
    "I = Identity(d)\n",
    "f = Constant(d*(0,))\n",
    "k = Constant(1)\n",
    "\n",
    "# First we solve the steady-state heat conduction problem...\n",
    "Th = Function(VT)\n",
    "Q = TestFunction(VT)\n",
    "aT = dot(k*grad(Th),grad(Q))*dx\n",
    "solve(aT==0, Th, [bcT0, bcT1])\n",
    "\n",
    "# Use solution to solve thermally dependent elastostatic problem\n",
    "u = Function(Vu)\n",
    "v = TestFunction(Vu)\n",
    "eps = sym(grad(u)) - alpha*I*Th\n",
    "sigma = K*tr(eps)*I + 2*G*(eps-tr(eps)*I/3)\n",
    "Fu = -inner(sigma, grad(v))*dx + inner(f,v)*dx\n",
    "solve(Fu==0, u, [bcu0,bcu1,bcu2])\n",
    "\n",
    "File(\"u_v2.pvd\") << u\n",
    "File(\"T_v2.pvd\") << Th"
   ]
  },
  {
   "cell_type": "markdown",
   "metadata": {},
   "source": [
    "Check that solution is the same..."
   ]
  },
  {
   "cell_type": "code",
   "execution_count": 243,
   "metadata": {},
   "outputs": [
    {
     "name": "stdout",
     "output_type": "stream",
     "text": [
      "L2 errors...\n",
      "u: 6.47649088484677e-15\n",
      "T: 7.382412715068178e-15\n"
     ]
    }
   ],
   "source": [
    "err_L2_u = sqrt(assemble((u - project(uout,Vu))**2*dx))\n",
    "err_L2_T = sqrt(assemble((Th - project(Tout,VT))**2*dx))\n",
    "print(f\"L2 errors...\\nu: {err_L2_u}\\nT: {err_L2_T}\")"
   ]
  },
  {
   "cell_type": "markdown",
   "metadata": {},
   "source": [
    "### 4c)"
   ]
  },
  {
   "cell_type": "markdown",
   "metadata": {},
   "source": [
    "See attached image of temperature field visualized in false color with the displacement field visualized by mesh distortions."
   ]
  }
 ],
 "metadata": {
  "kernelspec": {
   "display_name": "Python [conda env:fenicsproject] *",
   "language": "python",
   "name": "conda-env-fenicsproject-py"
  },
  "language_info": {
   "codemirror_mode": {
    "name": "ipython",
    "version": 3
   },
   "file_extension": ".py",
   "mimetype": "text/x-python",
   "name": "python",
   "nbconvert_exporter": "python",
   "pygments_lexer": "ipython3",
   "version": "3.7.3"
  }
 },
 "nbformat": 4,
 "nbformat_minor": 2
}
